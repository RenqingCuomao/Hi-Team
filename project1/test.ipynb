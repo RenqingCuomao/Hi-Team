{
 "cells": [
  {
   "cell_type": "code",
   "execution_count": 1,
   "id": "1fcc5b41-3e2f-4448-9de1-809c7155410e",
   "metadata": {
    "tags": []
   },
   "outputs": [],
   "source": [
    "from helpers import *\n",
    "import pandas as pd\n",
    "import zipfile\n",
    "import numpy as np\n",
    "\n",
    "zip_path = 'data/dataset.zip'\n",
    "save_path = 'data'"
   ]
  },
  {
   "cell_type": "code",
   "execution_count": 2,
   "id": "1b774fda-400f-4df4-a4cf-1c50069b612b",
   "metadata": {},
   "outputs": [],
   "source": [
    "#extract csv data from zip file\n",
    "file = zipfile.ZipFile(zip_path)\n",
    "file.extractall(save_path)\n",
    "file.close()\n",
    "\n",
    "csv_path = 'data/dataset_to_release'"
   ]
  },
  {
   "cell_type": "code",
   "execution_count": null,
   "id": "149b6867-15ba-4ed8-abda-5ebc1150691f",
   "metadata": {
    "tags": []
   },
   "outputs": [],
   "source": [
    "#load the data\n",
    "x_train, x_test, y_train, train_ids, test_ids = load_csv_data(csv_path)"
   ]
  },
  {
   "cell_type": "code",
   "execution_count": null,
   "id": "a2a1aefe-100f-4027-8361-1759ab437a19",
   "metadata": {},
   "outputs": [],
   "source": []
  }
 ],
 "metadata": {
  "kernelspec": {
   "display_name": "Python3",
   "language": "python",
   "name": "python3"
  },
  "language_info": {
   "codemirror_mode": {
    "name": "ipython",
    "version": 3
   },
   "file_extension": ".py",
   "mimetype": "text/x-python",
   "name": "python",
   "nbconvert_exporter": "python",
   "pygments_lexer": "ipython3",
   "version": "3.11.5"
  }
 },
 "nbformat": 4,
 "nbformat_minor": 5
}
